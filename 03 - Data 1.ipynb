{
 "metadata": {
  "kernelspec": {
   "display_name": "Python 2",
   "language": "python",
   "name": "python2"
  },
  "language_info": {
   "codemirror_mode": {
    "name": "ipython",
    "version": 2
   },
   "file_extension": ".py",
   "mimetype": "text/x-python",
   "name": "python",
   "nbconvert_exporter": "python",
   "pygments_lexer": "ipython2",
   "version": "2.7.6"
  },
  "name": "",
  "signature": "sha256:2752a3cd9ed27e5623e8c1e2ea294afd683d80fbb9ce04e144be2ad6b0a76e9a"
 },
 "nbformat": 3,
 "nbformat_minor": 0,
 "worksheets": [
  {
   "cells": [
    {
     "cell_type": "heading",
     "level": 1,
     "metadata": {},
     "source": [
      "SF Purchases Example"
     ]
    },
    {
     "cell_type": "markdown",
     "metadata": {},
     "source": [
      "In this example, interact is used to build a UI for exploring [San Francisco department purchases by city agency](https://data.sfgov.org/Economy-and-Community/Delegated-Departmental-Purchases-by-City-Agency-Pr/4q92-gm9f) data."
     ]
    },
    {
     "cell_type": "code",
     "collapsed": false,
     "input": [
      "# Import Pandas and then load the data.\n",
      "from pandas import read_csv\n",
      "df = read_csv('SFDeptPurchases.csv')"
     ],
     "language": "python",
     "metadata": {},
     "outputs": [],
     "prompt_number": 13
    },
    {
     "cell_type": "markdown",
     "metadata": {},
     "source": [
      "You can take a quick look at the first 5 rows of the data set using a slice.  Pandas knows how to display this as a table in IPython."
     ]
    },
    {
     "cell_type": "code",
     "collapsed": false,
     "input": [
      "df[:5]"
     ],
     "language": "python",
     "metadata": {},
     "outputs": [
      {
       "html": [
        "<div style=\"max-height:1000px;max-width:1500px;overflow:auto;\">\n",
        "<table border=\"1\" class=\"dataframe\">\n",
        "  <thead>\n",
        "    <tr style=\"text-align: right;\">\n",
        "      <th></th>\n",
        "      <th>Purchase Order ID</th>\n",
        "      <th>Dept  Code</th>\n",
        "      <th>Dept Name</th>\n",
        "      <th>Vendor Number</th>\n",
        "      <th>Vendor Name</th>\n",
        "      <th>Commodity Title</th>\n",
        "      <th>Post Date</th>\n",
        "      <th>Total</th>\n",
        "      <th>Vendor Zip</th>\n",
        "    </tr>\n",
        "  </thead>\n",
        "  <tbody>\n",
        "    <tr>\n",
        "      <th>0</th>\n",
        "      <td> DPAP10000038</td>\n",
        "      <td> ADP</td>\n",
        "      <td> ADULT PROBATION</td>\n",
        "      <td> 14326</td>\n",
        "      <td>                     PATRICK &amp; CO</td>\n",
        "      <td>                       FURNITURE- OFFICE;ERGONOMIC</td>\n",
        "      <td> 06/11/2010 07:00:00 AM +0000</td>\n",
        "      <td> $8884.71</td>\n",
        "      <td>     94104</td>\n",
        "    </tr>\n",
        "    <tr>\n",
        "      <th>1</th>\n",
        "      <td> DPAP10000037</td>\n",
        "      <td> ADP</td>\n",
        "      <td> ADULT PROBATION</td>\n",
        "      <td> 77720</td>\n",
        "      <td>                    AT&amp;T MOBILITY</td>\n",
        "      <td>                 CHARGE, EXTRA-ORDINARY FEES/TAXES</td>\n",
        "      <td> 05/28/2010 07:00:00 AM +0000</td>\n",
        "      <td>  $238.10</td>\n",
        "      <td> 980739767</td>\n",
        "    </tr>\n",
        "    <tr>\n",
        "      <th>2</th>\n",
        "      <td> DPAP10000044</td>\n",
        "      <td> ADP</td>\n",
        "      <td> ADULT PROBATION</td>\n",
        "      <td> 58893</td>\n",
        "      <td> EN POINTE TECHNOLOGIES SALES INC</td>\n",
        "      <td> A/V;ENTERTAINMENT SYS,EQPT,ACCESS&amp;SUPPL;RADIOS...</td>\n",
        "      <td> 06/28/2010 07:00:00 AM +0000</td>\n",
        "      <td> $3242.54</td>\n",
        "      <td> 900514429</td>\n",
        "    </tr>\n",
        "    <tr>\n",
        "      <th>3</th>\n",
        "      <td> DPAP10000043</td>\n",
        "      <td> ADP</td>\n",
        "      <td> ADULT PROBATION</td>\n",
        "      <td> 12467</td>\n",
        "      <td>         MICROBIZ SECURITY CO INC</td>\n",
        "      <td>  COMMUNICATIONS HARDWARE, PERSONAL COMPUTER BASED</td>\n",
        "      <td> 06/22/2010 07:00:00 AM +0000</td>\n",
        "      <td>  $448.95</td>\n",
        "      <td>     94103</td>\n",
        "    </tr>\n",
        "    <tr>\n",
        "      <th>4</th>\n",
        "      <td> DPAP10000042</td>\n",
        "      <td> ADP</td>\n",
        "      <td> ADULT PROBATION</td>\n",
        "      <td>  7766</td>\n",
        "      <td>                FORT MASON CENTER</td>\n",
        "      <td>                         RENT,REAL ESTATE;FACILITY</td>\n",
        "      <td> 06/23/2010 07:00:00 AM +0000</td>\n",
        "      <td> $1095.00</td>\n",
        "      <td> 941231382</td>\n",
        "    </tr>\n",
        "  </tbody>\n",
        "</table>\n",
        "</div>"
       ],
       "metadata": {},
       "output_type": "pyout",
       "prompt_number": 14,
       "text": [
        "  Purchase Order ID Dept  Code        Dept Name Vendor Number  \\\n",
        "0      DPAP10000038        ADP  ADULT PROBATION         14326   \n",
        "1      DPAP10000037        ADP  ADULT PROBATION         77720   \n",
        "2      DPAP10000044        ADP  ADULT PROBATION         58893   \n",
        "3      DPAP10000043        ADP  ADULT PROBATION         12467   \n",
        "4      DPAP10000042        ADP  ADULT PROBATION          7766   \n",
        "\n",
        "                        Vendor Name  \\\n",
        "0                      PATRICK & CO   \n",
        "1                     AT&T MOBILITY   \n",
        "2  EN POINTE TECHNOLOGIES SALES INC   \n",
        "3          MICROBIZ SECURITY CO INC   \n",
        "4                 FORT MASON CENTER   \n",
        "\n",
        "                                     Commodity Title  \\\n",
        "0                        FURNITURE- OFFICE;ERGONOMIC   \n",
        "1                  CHARGE, EXTRA-ORDINARY FEES/TAXES   \n",
        "2  A/V;ENTERTAINMENT SYS,EQPT,ACCESS&SUPPL;RADIOS...   \n",
        "3   COMMUNICATIONS HARDWARE, PERSONAL COMPUTER BASED   \n",
        "4                          RENT,REAL ESTATE;FACILITY   \n",
        "\n",
        "                      Post Date     Total Vendor Zip  \n",
        "0  06/11/2010 07:00:00 AM +0000  $8884.71      94104  \n",
        "1  05/28/2010 07:00:00 AM +0000   $238.10  980739767  \n",
        "2  06/28/2010 07:00:00 AM +0000  $3242.54  900514429  \n",
        "3  06/22/2010 07:00:00 AM +0000   $448.95      94103  \n",
        "4  06/23/2010 07:00:00 AM +0000  $1095.00  941231382  "
       ]
      }
     ],
     "prompt_number": 14
    },
    {
     "cell_type": "markdown",
     "metadata": {},
     "source": [
      "Notice that the totals are of type object (strings) instead of numbers."
     ]
    },
    {
     "cell_type": "code",
     "collapsed": false,
     "input": [
      "df[:5]['Total']"
     ],
     "language": "python",
     "metadata": {},
     "outputs": [
      {
       "metadata": {},
       "output_type": "pyout",
       "prompt_number": 15,
       "text": [
        "0    $8884.71\n",
        "1     $238.10\n",
        "2    $3242.54\n",
        "3     $448.95\n",
        "4    $1095.00\n",
        "Name: Total, dtype: object"
       ]
      }
     ],
     "prompt_number": 15
    },
    {
     "cell_type": "markdown",
     "metadata": {},
     "source": [
      "Remove the dollar sign from the strings and cast them to numbers."
     ]
    },
    {
     "cell_type": "code",
     "collapsed": false,
     "input": [
      "df['Total'] = df['Total'].str.replace(r'[$,]', '').convert_objects(convert_numeric=True)"
     ],
     "language": "python",
     "metadata": {},
     "outputs": [],
     "prompt_number": 17
    },
    {
     "cell_type": "code",
     "collapsed": false,
     "input": [
      "df[:5]['Total']"
     ],
     "language": "python",
     "metadata": {
      "scrolled": true
     },
     "outputs": [
      {
       "metadata": {},
       "output_type": "pyout",
       "prompt_number": 18,
       "text": [
        "0    8884.71\n",
        "1     238.10\n",
        "2    3242.54\n",
        "3     448.95\n",
        "4    1095.00\n",
        "Name: Total, dtype: float64"
       ]
      }
     ],
     "prompt_number": 18
    },
    {
     "cell_type": "markdown",
     "metadata": {},
     "source": [
      "Now the data can be explored using matplotlib and interact.  The following function plots the costs of the selected parameter type."
     ]
    },
    {
     "cell_type": "code",
     "collapsed": false,
     "input": [
      "%matplotlib inline\n",
      "from matplotlib import pyplot as plt\n",
      "from pandas import DataFrame\n",
      "\n",
      "def plot_by(df, column='Dept Name', count=10, ascending=False):\n",
      "    \n",
      "    # Group the data by the column specified and sum the totals.\n",
      "    data = df.groupby(column)['Total'].sum().dropna()\n",
      "    \n",
      "    # Sort the data.\n",
      "    data = DataFrame(data, columns=['Total']).sort('Total', ascending=ascending)\n",
      "    \n",
      "    # Plot the subset of the sorted data that the user is interested in.\n",
      "    data = data[:count].plot(kind='bar')\n",
      "    \n",
      "    # Plot settings.\n",
      "    plt.title('%s Costs' % column)\n",
      "    plt.ylabel('Cost ($)')"
     ],
     "language": "python",
     "metadata": {},
     "outputs": [],
     "prompt_number": 21
    },
    {
     "cell_type": "code",
     "collapsed": false,
     "input": [
      "from IPython.html.widgets import interact, fixed\n",
      "interact(plot_by, df=fixed(df), column=df.columns.tolist(), count=(5,15));"
     ],
     "language": "python",
     "metadata": {},
     "outputs": [
      {
       "metadata": {},
       "output_type": "display_data",
       "png": "[encoded data removed]",
       "text": [
        "<matplotlib.figure.Figure at 0x108127290>"
       ]
      }
     ],
     "prompt_number": 22
    }
   ],
   "metadata": {}
  }
 ]
}